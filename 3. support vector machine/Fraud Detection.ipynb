{
 "cells": [
  {
   "cell_type": "markdown",
   "id": "df79128d",
   "metadata": {},
   "source": [
    "<p style=\"font-size:32px; color:red; margin-top: 40px\">Importing libraries and reading the csv file</p>"
   ]
  },
  {
   "cell_type": "markdown",
   "id": "69d8f675",
   "metadata": {},
   "source": [
    "The dataset was taken from kaggle, its size is 150 MB and its location is: https://www.kaggle.com/datasets/mlg-ulb/creditcardfraud"
   ]
  },
  {
   "cell_type": "code",
   "execution_count": 1,
   "id": "18647537",
   "metadata": {},
   "outputs": [],
   "source": [
    "import numpy as np\n",
    "import pandas as pd\n",
    "import matplotlib.pyplot as plt\n",
    "import seaborn as sns"
   ]
  },
  {
   "cell_type": "code",
   "execution_count": 2,
   "id": "9235c2ec",
   "metadata": {},
   "outputs": [],
   "source": [
    "df = pd.read_csv(\"./creditcard.csv\")"
   ]
  },
  {
   "cell_type": "code",
   "execution_count": 3,
   "id": "16a082f9",
   "metadata": {},
   "outputs": [
    {
     "data": {
      "text/html": [
       "<div>\n",
       "<style scoped>\n",
       "    .dataframe tbody tr th:only-of-type {\n",
       "        vertical-align: middle;\n",
       "    }\n",
       "\n",
       "    .dataframe tbody tr th {\n",
       "        vertical-align: top;\n",
       "    }\n",
       "\n",
       "    .dataframe thead th {\n",
       "        text-align: right;\n",
       "    }\n",
       "</style>\n",
       "<table border=\"1\" class=\"dataframe\">\n",
       "  <thead>\n",
       "    <tr style=\"text-align: right;\">\n",
       "      <th></th>\n",
       "      <th>Time</th>\n",
       "      <th>V1</th>\n",
       "      <th>V2</th>\n",
       "      <th>V3</th>\n",
       "      <th>V4</th>\n",
       "      <th>V5</th>\n",
       "      <th>V6</th>\n",
       "      <th>V7</th>\n",
       "      <th>V8</th>\n",
       "      <th>V9</th>\n",
       "      <th>...</th>\n",
       "      <th>V21</th>\n",
       "      <th>V22</th>\n",
       "      <th>V23</th>\n",
       "      <th>V24</th>\n",
       "      <th>V25</th>\n",
       "      <th>V26</th>\n",
       "      <th>V27</th>\n",
       "      <th>V28</th>\n",
       "      <th>Amount</th>\n",
       "      <th>Class</th>\n",
       "    </tr>\n",
       "  </thead>\n",
       "  <tbody>\n",
       "    <tr>\n",
       "      <th>0</th>\n",
       "      <td>0.0</td>\n",
       "      <td>-1.359807</td>\n",
       "      <td>-0.072781</td>\n",
       "      <td>2.536347</td>\n",
       "      <td>1.378155</td>\n",
       "      <td>-0.338321</td>\n",
       "      <td>0.462388</td>\n",
       "      <td>0.239599</td>\n",
       "      <td>0.098698</td>\n",
       "      <td>0.363787</td>\n",
       "      <td>...</td>\n",
       "      <td>-0.018307</td>\n",
       "      <td>0.277838</td>\n",
       "      <td>-0.110474</td>\n",
       "      <td>0.066928</td>\n",
       "      <td>0.128539</td>\n",
       "      <td>-0.189115</td>\n",
       "      <td>0.133558</td>\n",
       "      <td>-0.021053</td>\n",
       "      <td>149.62</td>\n",
       "      <td>0</td>\n",
       "    </tr>\n",
       "    <tr>\n",
       "      <th>1</th>\n",
       "      <td>0.0</td>\n",
       "      <td>1.191857</td>\n",
       "      <td>0.266151</td>\n",
       "      <td>0.166480</td>\n",
       "      <td>0.448154</td>\n",
       "      <td>0.060018</td>\n",
       "      <td>-0.082361</td>\n",
       "      <td>-0.078803</td>\n",
       "      <td>0.085102</td>\n",
       "      <td>-0.255425</td>\n",
       "      <td>...</td>\n",
       "      <td>-0.225775</td>\n",
       "      <td>-0.638672</td>\n",
       "      <td>0.101288</td>\n",
       "      <td>-0.339846</td>\n",
       "      <td>0.167170</td>\n",
       "      <td>0.125895</td>\n",
       "      <td>-0.008983</td>\n",
       "      <td>0.014724</td>\n",
       "      <td>2.69</td>\n",
       "      <td>0</td>\n",
       "    </tr>\n",
       "    <tr>\n",
       "      <th>2</th>\n",
       "      <td>1.0</td>\n",
       "      <td>-1.358354</td>\n",
       "      <td>-1.340163</td>\n",
       "      <td>1.773209</td>\n",
       "      <td>0.379780</td>\n",
       "      <td>-0.503198</td>\n",
       "      <td>1.800499</td>\n",
       "      <td>0.791461</td>\n",
       "      <td>0.247676</td>\n",
       "      <td>-1.514654</td>\n",
       "      <td>...</td>\n",
       "      <td>0.247998</td>\n",
       "      <td>0.771679</td>\n",
       "      <td>0.909412</td>\n",
       "      <td>-0.689281</td>\n",
       "      <td>-0.327642</td>\n",
       "      <td>-0.139097</td>\n",
       "      <td>-0.055353</td>\n",
       "      <td>-0.059752</td>\n",
       "      <td>378.66</td>\n",
       "      <td>0</td>\n",
       "    </tr>\n",
       "    <tr>\n",
       "      <th>3</th>\n",
       "      <td>1.0</td>\n",
       "      <td>-0.966272</td>\n",
       "      <td>-0.185226</td>\n",
       "      <td>1.792993</td>\n",
       "      <td>-0.863291</td>\n",
       "      <td>-0.010309</td>\n",
       "      <td>1.247203</td>\n",
       "      <td>0.237609</td>\n",
       "      <td>0.377436</td>\n",
       "      <td>-1.387024</td>\n",
       "      <td>...</td>\n",
       "      <td>-0.108300</td>\n",
       "      <td>0.005274</td>\n",
       "      <td>-0.190321</td>\n",
       "      <td>-1.175575</td>\n",
       "      <td>0.647376</td>\n",
       "      <td>-0.221929</td>\n",
       "      <td>0.062723</td>\n",
       "      <td>0.061458</td>\n",
       "      <td>123.50</td>\n",
       "      <td>0</td>\n",
       "    </tr>\n",
       "    <tr>\n",
       "      <th>4</th>\n",
       "      <td>2.0</td>\n",
       "      <td>-1.158233</td>\n",
       "      <td>0.877737</td>\n",
       "      <td>1.548718</td>\n",
       "      <td>0.403034</td>\n",
       "      <td>-0.407193</td>\n",
       "      <td>0.095921</td>\n",
       "      <td>0.592941</td>\n",
       "      <td>-0.270533</td>\n",
       "      <td>0.817739</td>\n",
       "      <td>...</td>\n",
       "      <td>-0.009431</td>\n",
       "      <td>0.798278</td>\n",
       "      <td>-0.137458</td>\n",
       "      <td>0.141267</td>\n",
       "      <td>-0.206010</td>\n",
       "      <td>0.502292</td>\n",
       "      <td>0.219422</td>\n",
       "      <td>0.215153</td>\n",
       "      <td>69.99</td>\n",
       "      <td>0</td>\n",
       "    </tr>\n",
       "  </tbody>\n",
       "</table>\n",
       "<p>5 rows × 31 columns</p>\n",
       "</div>"
      ],
      "text/plain": [
       "   Time        V1        V2        V3        V4        V5        V6        V7  \\\n",
       "0   0.0 -1.359807 -0.072781  2.536347  1.378155 -0.338321  0.462388  0.239599   \n",
       "1   0.0  1.191857  0.266151  0.166480  0.448154  0.060018 -0.082361 -0.078803   \n",
       "2   1.0 -1.358354 -1.340163  1.773209  0.379780 -0.503198  1.800499  0.791461   \n",
       "3   1.0 -0.966272 -0.185226  1.792993 -0.863291 -0.010309  1.247203  0.237609   \n",
       "4   2.0 -1.158233  0.877737  1.548718  0.403034 -0.407193  0.095921  0.592941   \n",
       "\n",
       "         V8        V9  ...       V21       V22       V23       V24       V25  \\\n",
       "0  0.098698  0.363787  ... -0.018307  0.277838 -0.110474  0.066928  0.128539   \n",
       "1  0.085102 -0.255425  ... -0.225775 -0.638672  0.101288 -0.339846  0.167170   \n",
       "2  0.247676 -1.514654  ...  0.247998  0.771679  0.909412 -0.689281 -0.327642   \n",
       "3  0.377436 -1.387024  ... -0.108300  0.005274 -0.190321 -1.175575  0.647376   \n",
       "4 -0.270533  0.817739  ... -0.009431  0.798278 -0.137458  0.141267 -0.206010   \n",
       "\n",
       "        V26       V27       V28  Amount  Class  \n",
       "0 -0.189115  0.133558 -0.021053  149.62      0  \n",
       "1  0.125895 -0.008983  0.014724    2.69      0  \n",
       "2 -0.139097 -0.055353 -0.059752  378.66      0  \n",
       "3 -0.221929  0.062723  0.061458  123.50      0  \n",
       "4  0.502292  0.219422  0.215153   69.99      0  \n",
       "\n",
       "[5 rows x 31 columns]"
      ]
     },
     "execution_count": 3,
     "metadata": {},
     "output_type": "execute_result"
    }
   ],
   "source": [
    "df.head()"
   ]
  },
  {
   "cell_type": "markdown",
   "id": "77e8107f",
   "metadata": {},
   "source": [
    "<p style=\"font-size:32px; color:red; margin-top: 40px\">Knowing our Dataset</p>"
   ]
  },
  {
   "cell_type": "markdown",
   "id": "5e930e81",
   "metadata": {},
   "source": [
    "The dataset contains transactions made by credit cards in September 2013 by European cardholders.\n",
    "This dataset presents transactions that occurred in two days, where we have 492 frauds out of 284,807 transactions.\n",
    "\n",
    "It contains only numerical input variables which are the result of a PCA transformation. \n",
    "Features V1, V2, … V28 are the principal components obtained with PCA, the only features which have not been transformed with PCA are 'Time' and 'Amount'. \n",
    "The feature 'Amount' is the transaction Amount.\n",
    "\n",
    "Feature 'Class' is the response variable and it takes value 1 in case of fraud and 0 otherwise.\n"
   ]
  },
  {
   "cell_type": "code",
   "execution_count": 4,
   "id": "7c5817da",
   "metadata": {
    "scrolled": true
   },
   "outputs": [
    {
     "name": "stdout",
     "output_type": "stream",
     "text": [
      "<class 'pandas.core.frame.DataFrame'>\n",
      "RangeIndex: 284807 entries, 0 to 284806\n",
      "Data columns (total 31 columns):\n",
      " #   Column  Non-Null Count   Dtype  \n",
      "---  ------  --------------   -----  \n",
      " 0   Time    284807 non-null  float64\n",
      " 1   V1      284807 non-null  float64\n",
      " 2   V2      284807 non-null  float64\n",
      " 3   V3      284807 non-null  float64\n",
      " 4   V4      284807 non-null  float64\n",
      " 5   V5      284807 non-null  float64\n",
      " 6   V6      284807 non-null  float64\n",
      " 7   V7      284807 non-null  float64\n",
      " 8   V8      284807 non-null  float64\n",
      " 9   V9      284807 non-null  float64\n",
      " 10  V10     284807 non-null  float64\n",
      " 11  V11     284807 non-null  float64\n",
      " 12  V12     284807 non-null  float64\n",
      " 13  V13     284807 non-null  float64\n",
      " 14  V14     284807 non-null  float64\n",
      " 15  V15     284807 non-null  float64\n",
      " 16  V16     284807 non-null  float64\n",
      " 17  V17     284807 non-null  float64\n",
      " 18  V18     284807 non-null  float64\n",
      " 19  V19     284807 non-null  float64\n",
      " 20  V20     284807 non-null  float64\n",
      " 21  V21     284807 non-null  float64\n",
      " 22  V22     284807 non-null  float64\n",
      " 23  V23     284807 non-null  float64\n",
      " 24  V24     284807 non-null  float64\n",
      " 25  V25     284807 non-null  float64\n",
      " 26  V26     284807 non-null  float64\n",
      " 27  V27     284807 non-null  float64\n",
      " 28  V28     284807 non-null  float64\n",
      " 29  Amount  284807 non-null  float64\n",
      " 30  Class   284807 non-null  int64  \n",
      "dtypes: float64(30), int64(1)\n",
      "memory usage: 67.4 MB\n"
     ]
    }
   ],
   "source": [
    "df.info()"
   ]
  },
  {
   "cell_type": "code",
   "execution_count": 5,
   "id": "3bdc0d31",
   "metadata": {},
   "outputs": [
    {
     "data": {
      "text/plain": [
       "False"
      ]
     },
     "execution_count": 5,
     "metadata": {},
     "output_type": "execute_result"
    }
   ],
   "source": [
    "df.isna().any().any() #this implies that there are no missing values"
   ]
  },
  {
   "cell_type": "markdown",
   "id": "89f30bec",
   "metadata": {},
   "source": [
    "Also all the datatypes of the features are numeric, i.e., float and int"
   ]
  },
  {
   "cell_type": "markdown",
   "id": "71e354c7",
   "metadata": {},
   "source": [
    "There are 284807 number of transaction examples"
   ]
  },
  {
   "cell_type": "code",
   "execution_count": 6,
   "id": "4b0a4fa7",
   "metadata": {},
   "outputs": [
    {
     "data": {
      "text/plain": [
       "492"
      ]
     },
     "execution_count": 6,
     "metadata": {},
     "output_type": "execute_result"
    }
   ],
   "source": [
    "len(df[df[\"Class\"] == 1])"
   ]
  },
  {
   "cell_type": "markdown",
   "id": "fe7ea265",
   "metadata": {},
   "source": [
    "So there are total of 492 fraud transactions out of 284807 transactions => 492 / 284807 * 100 = 0.172%"
   ]
  },
  {
   "cell_type": "markdown",
   "id": "c36760c3",
   "metadata": {},
   "source": [
    "This data is highly imbalanced so our ML algorithms will be biased towards non fraud transactions in order to give high accuracy. But when training, we will give approx 50% data of each class(fraud and non fraud) so that the learning algorithm considers them of equal importance and as a result, tries to learn what a fraud transaction looks like"
   ]
  },
  {
   "cell_type": "code",
   "execution_count": 7,
   "id": "5950e5cf",
   "metadata": {},
   "outputs": [],
   "source": [
    "corr = df.corr()"
   ]
  },
  {
   "cell_type": "code",
   "execution_count": 8,
   "id": "8bbba88a",
   "metadata": {},
   "outputs": [
    {
     "data": {
      "text/plain": [
       "<AxesSubplot:>"
      ]
     },
     "execution_count": 8,
     "metadata": {},
     "output_type": "execute_result"
    },
    {
     "data": {
      "image/png": "[encoded data removed]",
      "text/plain": [
       "<Figure size 432x288 with 2 Axes>"
      ]
     },
     "metadata": {
      "needs_background": "light"
     },
     "output_type": "display_data"
    }
   ],
   "source": [
    "sns.heatmap(corr)"
   ]
  },
  {
   "cell_type": "markdown",
   "id": "2b6fec05",
   "metadata": {},
   "source": [
    "We are given that PCA was implemented already on the given dataset, therfore there is not a much of correlation at least among the V1 to V28 calss.\n",
    "\n",
    "But 3 features, namely, Time, Amount and Class are the original ones, that is no pca was applied to them, lets see their correlation"
   ]
  },
  {
   "cell_type": "code",
   "execution_count": null,
   "id": "8e0a9ccd",
   "metadata": {},
   "outputs": [],
   "source": []
  },
  {
   "cell_type": "code",
   "execution_count": 9,
   "id": "4dfcd1e9",
   "metadata": {
    "scrolled": true
   },
   "outputs": [
    {
     "data": {
      "text/plain": [
       "Time      1.000000\n",
       "V5        0.173072\n",
       "V22       0.144059\n",
       "V12       0.124348\n",
       "V1        0.117396\n",
       "V18       0.090438\n",
       "V7        0.084714\n",
       "V23       0.051142\n",
       "V21       0.044736\n",
       "V10       0.030617\n",
       "V19       0.028975\n",
       "V16       0.011903\n",
       "V27      -0.005135\n",
       "V9       -0.008660\n",
       "V28      -0.009413\n",
       "V2       -0.010593\n",
       "Amount   -0.010596\n",
       "Class    -0.012323\n",
       "V24      -0.016182\n",
       "V8       -0.036949\n",
       "V26      -0.041407\n",
       "V20      -0.050866\n",
       "V6       -0.063016\n",
       "V13      -0.065902\n",
       "V17      -0.073297\n",
       "V14      -0.098757\n",
       "V4       -0.105260\n",
       "V15      -0.183453\n",
       "V25      -0.233083\n",
       "V11      -0.247689\n",
       "V3       -0.419618\n",
       "Name: Time, dtype: float64"
      ]
     },
     "execution_count": 9,
     "metadata": {},
     "output_type": "execute_result"
    }
   ],
   "source": [
    "corr[\"Time\"].sort_values(ascending=False)"
   ]
  },
  {
   "cell_type": "code",
   "execution_count": 10,
   "id": "eef91830",
   "metadata": {
    "scrolled": true
   },
   "outputs": [
    {
     "data": {
      "text/plain": [
       "Amount    1.000000\n",
       "V7        0.397311\n",
       "V20       0.339403\n",
       "V6        0.215981\n",
       "V21       0.105999\n",
       "V4        0.098732\n",
       "V18       0.035650\n",
       "V14       0.033751\n",
       "V27       0.028825\n",
       "V28       0.010258\n",
       "V17       0.007309\n",
       "Class     0.005632\n",
       "V13       0.005293\n",
       "V24       0.005146\n",
       "V11       0.000104\n",
       "V15      -0.002986\n",
       "V26      -0.003208\n",
       "V16      -0.003910\n",
       "V12      -0.009542\n",
       "Time     -0.010596\n",
       "V9       -0.044246\n",
       "V25      -0.047837\n",
       "V19      -0.056151\n",
       "V22      -0.064801\n",
       "V10      -0.101502\n",
       "V8       -0.103079\n",
       "V23      -0.112633\n",
       "V3       -0.210880\n",
       "V1       -0.227709\n",
       "V5       -0.386356\n",
       "V2       -0.531409\n",
       "Name: Amount, dtype: float64"
      ]
     },
     "execution_count": 10,
     "metadata": {},
     "output_type": "execute_result"
    }
   ],
   "source": [
    "corr[\"Amount\"].sort_values(ascending=False)"
   ]
  },
  {
   "cell_type": "code",
   "execution_count": 11,
   "id": "078d4231",
   "metadata": {
    "scrolled": true
   },
   "outputs": [
    {
     "data": {
      "text/plain": [
       "Class     1.000000\n",
       "V11       0.154876\n",
       "V4        0.133447\n",
       "V2        0.091289\n",
       "V21       0.040413\n",
       "V19       0.034783\n",
       "V20       0.020090\n",
       "V8        0.019875\n",
       "V27       0.017580\n",
       "V28       0.009536\n",
       "Amount    0.005632\n",
       "V26       0.004455\n",
       "V25       0.003308\n",
       "V22       0.000805\n",
       "V23      -0.002685\n",
       "V15      -0.004223\n",
       "V13      -0.004570\n",
       "V24      -0.007221\n",
       "Time     -0.012323\n",
       "V6       -0.043643\n",
       "V5       -0.094974\n",
       "V9       -0.097733\n",
       "V1       -0.101347\n",
       "V18      -0.111485\n",
       "V7       -0.187257\n",
       "V3       -0.192961\n",
       "V16      -0.196539\n",
       "V10      -0.216883\n",
       "V12      -0.260593\n",
       "V14      -0.302544\n",
       "V17      -0.326481\n",
       "Name: Class, dtype: float64"
      ]
     },
     "execution_count": 11,
     "metadata": {},
     "output_type": "execute_result"
    }
   ],
   "source": [
    "corr[\"Class\"].sort_values(ascending=False)"
   ]
  },
  {
   "cell_type": "code",
   "execution_count": 12,
   "id": "56617af8",
   "metadata": {},
   "outputs": [],
   "source": [
    "total_frauds = len(df[df[\"Class\"] == 1]) # total_frauds = 492"
   ]
  },
  {
   "cell_type": "markdown",
   "id": "56145574",
   "metadata": {},
   "source": [
    "We will learn from half of the frauds and then try to predict the rest half of the frauds"
   ]
  },
  {
   "cell_type": "code",
   "execution_count": 13,
   "id": "d1bf1584",
   "metadata": {},
   "outputs": [],
   "source": [
    "total_examples = len(df)"
   ]
  },
  {
   "cell_type": "code",
   "execution_count": 14,
   "id": "8af83541",
   "metadata": {},
   "outputs": [],
   "source": [
    "frauds = df[df[\"Class\"] == 1]"
   ]
  },
  {
   "cell_type": "code",
   "execution_count": 15,
   "id": "3a4378ef",
   "metadata": {},
   "outputs": [],
   "source": [
    "not_frauds = df[df[\"Class\"] == 0]"
   ]
  },
  {
   "cell_type": "code",
   "execution_count": 16,
   "id": "15144255",
   "metadata": {},
   "outputs": [],
   "source": [
    "frauds = frauds.sample(frac = 1) #shuffle the frauds"
   ]
  },
  {
   "cell_type": "code",
   "execution_count": 17,
   "id": "e72f169a",
   "metadata": {},
   "outputs": [],
   "source": [
    "not_frauds = not_frauds.sample(frac = 1)"
   ]
  },
  {
   "cell_type": "code",
   "execution_count": 18,
   "id": "a83b5c62",
   "metadata": {},
   "outputs": [],
   "source": [
    "frauds_training = frauds[:total_frauds//2]\n",
    "frauds_testing = frauds[total_frauds//2 :]"
   ]
  },
  {
   "cell_type": "code",
   "execution_count": 19,
   "id": "c6f8052a",
   "metadata": {},
   "outputs": [],
   "source": [
    "not_frauds_training = not_frauds[:total_frauds//2] #its len is 246\n",
    "not_frauds_testing = not_frauds[total_frauds//2 :] # its len is 284069"
   ]
  },
  {
   "cell_type": "code",
   "execution_count": 20,
   "id": "620ad585",
   "metadata": {},
   "outputs": [],
   "source": [
    "df_training = pd.concat(objs=[frauds_training, not_frauds_training])\n",
    "df_testing = pd.concat(objs=[frauds_testing, not_frauds_testing])\n",
    "df_training = df_training.sample(frac=1)\n",
    "df_testing = df_testing.sample(frac=1)"
   ]
  },
  {
   "cell_type": "code",
   "execution_count": 21,
   "id": "f67c18bc",
   "metadata": {},
   "outputs": [
    {
     "data": {
      "text/plain": [
       "492"
      ]
     },
     "execution_count": 21,
     "metadata": {},
     "output_type": "execute_result"
    }
   ],
   "source": [
    "len(df_training) #it comprises equal number of fraud and non fraud transactions"
   ]
  },
  {
   "cell_type": "code",
   "execution_count": 22,
   "id": "fbe78347",
   "metadata": {},
   "outputs": [
    {
     "data": {
      "text/plain": [
       "284315"
      ]
     },
     "execution_count": 22,
     "metadata": {},
     "output_type": "execute_result"
    }
   ],
   "source": [
    "len(df_testing)"
   ]
  },
  {
   "cell_type": "code",
   "execution_count": 23,
   "id": "931e99ff",
   "metadata": {},
   "outputs": [
    {
     "data": {
      "text/html": [
       "<div>\n",
       "<style scoped>\n",
       "    .dataframe tbody tr th:only-of-type {\n",
       "        vertical-align: middle;\n",
       "    }\n",
       "\n",
       "    .dataframe tbody tr th {\n",
       "        vertical-align: top;\n",
       "    }\n",
       "\n",
       "    .dataframe thead th {\n",
       "        text-align: right;\n",
       "    }\n",
       "</style>\n",
       "<table border=\"1\" class=\"dataframe\">\n",
       "  <thead>\n",
       "    <tr style=\"text-align: right;\">\n",
       "      <th></th>\n",
       "      <th>Time</th>\n",
       "      <th>V1</th>\n",
       "      <th>V2</th>\n",
       "      <th>V3</th>\n",
       "      <th>V4</th>\n",
       "      <th>V5</th>\n",
       "      <th>V6</th>\n",
       "      <th>V7</th>\n",
       "      <th>V8</th>\n",
       "      <th>V9</th>\n",
       "      <th>...</th>\n",
       "      <th>V21</th>\n",
       "      <th>V22</th>\n",
       "      <th>V23</th>\n",
       "      <th>V24</th>\n",
       "      <th>V25</th>\n",
       "      <th>V26</th>\n",
       "      <th>V27</th>\n",
       "      <th>V28</th>\n",
       "      <th>Amount</th>\n",
       "      <th>Class</th>\n",
       "    </tr>\n",
       "  </thead>\n",
       "  <tbody>\n",
       "    <tr>\n",
       "      <th>13088</th>\n",
       "      <td>22976.0</td>\n",
       "      <td>-0.569848</td>\n",
       "      <td>1.014669</td>\n",
       "      <td>1.854790</td>\n",
       "      <td>0.183448</td>\n",
       "      <td>0.416045</td>\n",
       "      <td>-0.550748</td>\n",
       "      <td>0.983211</td>\n",
       "      <td>-0.455727</td>\n",
       "      <td>0.707403</td>\n",
       "      <td>...</td>\n",
       "      <td>-0.038848</td>\n",
       "      <td>0.338891</td>\n",
       "      <td>-0.213192</td>\n",
       "      <td>0.401143</td>\n",
       "      <td>-0.133847</td>\n",
       "      <td>0.281457</td>\n",
       "      <td>-0.233639</td>\n",
       "      <td>-0.128506</td>\n",
       "      <td>24.21</td>\n",
       "      <td>0</td>\n",
       "    </tr>\n",
       "    <tr>\n",
       "      <th>160184</th>\n",
       "      <td>113154.0</td>\n",
       "      <td>-1.383524</td>\n",
       "      <td>-0.664584</td>\n",
       "      <td>1.842021</td>\n",
       "      <td>-3.826554</td>\n",
       "      <td>0.067715</td>\n",
       "      <td>-0.389561</td>\n",
       "      <td>0.209225</td>\n",
       "      <td>0.290994</td>\n",
       "      <td>1.573235</td>\n",
       "      <td>...</td>\n",
       "      <td>0.215278</td>\n",
       "      <td>0.355360</td>\n",
       "      <td>-0.106182</td>\n",
       "      <td>0.684735</td>\n",
       "      <td>0.770016</td>\n",
       "      <td>-1.046582</td>\n",
       "      <td>0.033594</td>\n",
       "      <td>0.076237</td>\n",
       "      <td>99.99</td>\n",
       "      <td>0</td>\n",
       "    </tr>\n",
       "    <tr>\n",
       "      <th>238366</th>\n",
       "      <td>149640.0</td>\n",
       "      <td>0.754316</td>\n",
       "      <td>2.379822</td>\n",
       "      <td>-5.137274</td>\n",
       "      <td>3.818392</td>\n",
       "      <td>0.043203</td>\n",
       "      <td>-1.285451</td>\n",
       "      <td>-1.766684</td>\n",
       "      <td>0.756711</td>\n",
       "      <td>-1.765722</td>\n",
       "      <td>...</td>\n",
       "      <td>0.397058</td>\n",
       "      <td>0.141165</td>\n",
       "      <td>0.171985</td>\n",
       "      <td>0.394274</td>\n",
       "      <td>-0.444642</td>\n",
       "      <td>-0.263189</td>\n",
       "      <td>0.304703</td>\n",
       "      <td>-0.044362</td>\n",
       "      <td>2.00</td>\n",
       "      <td>1</td>\n",
       "    </tr>\n",
       "    <tr>\n",
       "      <th>259303</th>\n",
       "      <td>159054.0</td>\n",
       "      <td>-6.715884</td>\n",
       "      <td>6.170657</td>\n",
       "      <td>-4.095526</td>\n",
       "      <td>-1.496508</td>\n",
       "      <td>-1.973730</td>\n",
       "      <td>-1.850369</td>\n",
       "      <td>-0.636830</td>\n",
       "      <td>1.843331</td>\n",
       "      <td>3.858374</td>\n",
       "      <td>...</td>\n",
       "      <td>-0.324880</td>\n",
       "      <td>0.979968</td>\n",
       "      <td>0.288205</td>\n",
       "      <td>-0.023504</td>\n",
       "      <td>0.253358</td>\n",
       "      <td>-0.360710</td>\n",
       "      <td>0.099518</td>\n",
       "      <td>-0.979289</td>\n",
       "      <td>0.99</td>\n",
       "      <td>0</td>\n",
       "    </tr>\n",
       "    <tr>\n",
       "      <th>215163</th>\n",
       "      <td>139962.0</td>\n",
       "      <td>-2.301927</td>\n",
       "      <td>2.006963</td>\n",
       "      <td>-0.017366</td>\n",
       "      <td>-1.203718</td>\n",
       "      <td>0.222056</td>\n",
       "      <td>1.368628</td>\n",
       "      <td>-1.121390</td>\n",
       "      <td>-2.670765</td>\n",
       "      <td>0.563269</td>\n",
       "      <td>...</td>\n",
       "      <td>3.112345</td>\n",
       "      <td>-1.184520</td>\n",
       "      <td>0.530663</td>\n",
       "      <td>-0.286211</td>\n",
       "      <td>-0.598448</td>\n",
       "      <td>-0.740938</td>\n",
       "      <td>-0.575139</td>\n",
       "      <td>0.150276</td>\n",
       "      <td>5.00</td>\n",
       "      <td>0</td>\n",
       "    </tr>\n",
       "  </tbody>\n",
       "</table>\n",
       "<p>5 rows × 31 columns</p>\n",
       "</div>"
      ],
      "text/plain": [
       "            Time        V1        V2        V3        V4        V5        V6  \\\n",
       "13088    22976.0 -0.569848  1.014669  1.854790  0.183448  0.416045 -0.550748   \n",
       "160184  113154.0 -1.383524 -0.664584  1.842021 -3.826554  0.067715 -0.389561   \n",
       "238366  149640.0  0.754316  2.379822 -5.137274  3.818392  0.043203 -1.285451   \n",
       "259303  159054.0 -6.715884  6.170657 -4.095526 -1.496508 -1.973730 -1.850369   \n",
       "215163  139962.0 -2.301927  2.006963 -0.017366 -1.203718  0.222056  1.368628   \n",
       "\n",
       "              V7        V8        V9  ...       V21       V22       V23  \\\n",
       "13088   0.983211 -0.455727  0.707403  ... -0.038848  0.338891 -0.213192   \n",
       "160184  0.209225  0.290994  1.573235  ...  0.215278  0.355360 -0.106182   \n",
       "238366 -1.766684  0.756711 -1.765722  ...  0.397058  0.141165  0.171985   \n",
       "259303 -0.636830  1.843331  3.858374  ... -0.324880  0.979968  0.288205   \n",
       "215163 -1.121390 -2.670765  0.563269  ...  3.112345 -1.184520  0.530663   \n",
       "\n",
       "             V24       V25       V26       V27       V28  Amount  Class  \n",
       "13088   0.401143 -0.133847  0.281457 -0.233639 -0.128506   24.21      0  \n",
       "160184  0.684735  0.770016 -1.046582  0.033594  0.076237   99.99      0  \n",
       "238366  0.394274 -0.444642 -0.263189  0.304703 -0.044362    2.00      1  \n",
       "259303 -0.023504  0.253358 -0.360710  0.099518 -0.979289    0.99      0  \n",
       "215163 -0.286211 -0.598448 -0.740938 -0.575139  0.150276    5.00      0  \n",
       "\n",
       "[5 rows x 31 columns]"
      ]
     },
     "execution_count": 23,
     "metadata": {},
     "output_type": "execute_result"
    }
   ],
   "source": [
    "df_training.head()"
   ]
  },
  {
   "cell_type": "code",
   "execution_count": 24,
   "id": "a4cf61f6",
   "metadata": {},
   "outputs": [],
   "source": [
    "X_train = df_training.drop(labels=\"Class\", axis = 1)\n",
    "y_train = df_training[\"Class\"]"
   ]
  },
  {
   "cell_type": "code",
   "execution_count": 25,
   "id": "dfd8a7f4",
   "metadata": {},
   "outputs": [],
   "source": [
    "X_test = df_testing.drop(labels=\"Class\", axis = 1)\n",
    "y_test = df_testing[\"Class\"]"
   ]
  },
  {
   "cell_type": "markdown",
   "id": "a0061cae",
   "metadata": {},
   "source": [
    "<p style=\"font-size:32px; color:red; margin-top: 40px\">Model Building</p>"
   ]
  },
  {
   "cell_type": "code",
   "execution_count": 26,
   "id": "89ef476b",
   "metadata": {},
   "outputs": [],
   "source": [
    "from sklearn.pipeline import Pipeline\n",
    "from sklearn.preprocessing import StandardScaler\n",
    "from sklearn.svm import LinearSVC"
   ]
  },
  {
   "cell_type": "code",
   "execution_count": 27,
   "id": "cb62a185",
   "metadata": {},
   "outputs": [],
   "source": [
    "svm_clf = Pipeline([\n",
    " (\"scaler\", StandardScaler()),\n",
    " (\"linear_svc\", LinearSVC(C=1, loss=\"hinge\", max_iter=10000)),\n",
    " ])"
   ]
  },
  {
   "cell_type": "code",
   "execution_count": 28,
   "id": "9a2d709a",
   "metadata": {},
   "outputs": [
    {
     "data": {
      "text/plain": [
       "Pipeline(steps=[('scaler', StandardScaler()),\n",
       "                ('linear_svc', LinearSVC(C=1, loss='hinge', max_iter=10000))])"
      ]
     },
     "execution_count": 28,
     "metadata": {},
     "output_type": "execute_result"
    }
   ],
   "source": [
    "svm_clf.fit(X_train, y_train)"
   ]
  },
  {
   "cell_type": "code",
   "execution_count": 29,
   "id": "66853320",
   "metadata": {},
   "outputs": [],
   "source": [
    "predictions = svm_clf.predict(X_test)"
   ]
  },
  {
   "cell_type": "code",
   "execution_count": 30,
   "id": "446a6b9f",
   "metadata": {},
   "outputs": [
    {
     "data": {
      "text/plain": [
       "284315"
      ]
     },
     "execution_count": 30,
     "metadata": {},
     "output_type": "execute_result"
    }
   ],
   "source": [
    "len(predictions)"
   ]
  },
  {
   "cell_type": "code",
   "execution_count": 31,
   "id": "5114b2cd",
   "metadata": {},
   "outputs": [
    {
     "data": {
      "text/plain": [
       "284315"
      ]
     },
     "execution_count": 31,
     "metadata": {},
     "output_type": "execute_result"
    }
   ],
   "source": [
    "len(y_test)"
   ]
  },
  {
   "cell_type": "code",
   "execution_count": 32,
   "id": "21ff00f6",
   "metadata": {},
   "outputs": [],
   "source": [
    "from sklearn.metrics import confusion_matrix"
   ]
  },
  {
   "cell_type": "code",
   "execution_count": 33,
   "id": "16c9b585",
   "metadata": {},
   "outputs": [
    {
     "data": {
      "text/plain": [
       "array([[273688,  10381],\n",
       "       [    27,    219]], dtype=int64)"
      ]
     },
     "execution_count": 33,
     "metadata": {},
     "output_type": "execute_result"
    }
   ],
   "source": [
    "confusion_matrix(y_test, predictions)"
   ]
  },
  {
   "cell_type": "code",
   "execution_count": 34,
   "id": "f2b08266",
   "metadata": {},
   "outputs": [],
   "source": [
    "fraud_detection_accuracy = (225)/(225 + 21)*100\n",
    "total_accuracy = (274266 + 225) / ( (274266 + 225) + (21 + 9803) )"
   ]
  },
  {
   "cell_type": "code",
   "execution_count": 35,
   "id": "408ae64a",
   "metadata": {},
   "outputs": [
    {
     "data": {
      "text/plain": [
       "91.46341463414635"
      ]
     },
     "execution_count": 35,
     "metadata": {},
     "output_type": "execute_result"
    }
   ],
   "source": [
    "fraud_detection_accuracy #out of 10, 9 frauds are being detected"
   ]
  },
  {
   "cell_type": "code",
   "execution_count": 36,
   "id": "c44d460a",
   "metadata": {},
   "outputs": [
    {
     "data": {
      "text/plain": [
       "0.9654467755834198"
      ]
     },
     "execution_count": 36,
     "metadata": {},
     "output_type": "execute_result"
    }
   ],
   "source": [
    "total_accuracy"
   ]
  },
  {
   "cell_type": "markdown",
   "id": "d5e4c4bd",
   "metadata": {},
   "source": [
    "**our dataset learned from 492 samples and predicted 2,84,315 samples**"
   ]
  },
  {
   "cell_type": "code",
   "execution_count": null,
   "id": "8ba5b7bb",
   "metadata": {},
   "outputs": [],
   "source": []
  }
 ],
 "metadata": {
  "kernelspec": {
   "display_name": "Python 3 (ipykernel)",
   "language": "python",
   "name": "python3"
  },
  "language_info": {
   "codemirror_mode": {
    "name": "ipython",
    "version": 3
   },
   "file_extension": ".py",
   "mimetype": "text/x-python",
   "name": "python",
   "nbconvert_exporter": "python",
   "pygments_lexer": "ipython3",
   "version": "3.9.7"
  }
 },
 "nbformat": 4,
 "nbformat_minor": 5
}
