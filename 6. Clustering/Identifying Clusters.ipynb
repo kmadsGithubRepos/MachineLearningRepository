{
 "cells": [
  {
   "cell_type": "markdown",
   "id": "e15fcc8f",
   "metadata": {},
   "source": [
    "# Classifying given datapoints into clusters, Unsupervised Learning"
   ]
  },
  {
   "cell_type": "code",
   "execution_count": null,
   "id": "6309c32f",
   "metadata": {},
   "outputs": [],
   "source": [
    "import numpy as np\n",
    "import pandas as pd\n",
    "import matplotlib.pyplot as plt\n",
    "import seaborn as sns"
   ]
  },
  {
   "cell_type": "code",
   "execution_count": null,
   "id": "9c6a6d73",
   "metadata": {},
   "outputs": [],
   "source": [
    "df = pd.read_csv(\"./basic1.csv\")"
   ]
  },
  {
   "cell_type": "code",
   "execution_count": null,
   "id": "09e8aec4",
   "metadata": {},
   "outputs": [],
   "source": [
    "df.head()"
   ]
  },
  {
   "cell_type": "code",
   "execution_count": null,
   "id": "30921090",
   "metadata": {},
   "outputs": [],
   "source": [
    "df.info()"
   ]
  },
  {
   "cell_type": "markdown",
   "id": "a91f5109",
   "metadata": {},
   "source": [
    "There are 9,794 rows and 3 columns, where first 2 columns are are Independent features"
   ]
  },
  {
   "cell_type": "code",
   "execution_count": null,
   "id": "ef75f5ed",
   "metadata": {},
   "outputs": [],
   "source": [
    "df.describe()"
   ]
  },
  {
   "cell_type": "code",
   "execution_count": null,
   "id": "54cf3f34",
   "metadata": {},
   "outputs": [],
   "source": [
    "df[\"color\"].value_counts() #there are 4 unique classes"
   ]
  },
  {
   "cell_type": "code",
   "execution_count": null,
   "id": "2edbf9e3",
   "metadata": {},
   "outputs": [],
   "source": [
    "sns.scatterplot(x = \"x\", y=\"y\", data = df)"
   ]
  },
  {
   "cell_type": "markdown",
   "id": "e516b481",
   "metadata": {},
   "source": [
    "### Standard Scaling"
   ]
  },
  {
   "cell_type": "code",
   "execution_count": null,
   "id": "a6a18f91",
   "metadata": {},
   "outputs": [],
   "source": [
    "from sklearn.preprocessing import StandardScaler"
   ]
  },
  {
   "cell_type": "code",
   "execution_count": null,
   "id": "69801590",
   "metadata": {},
   "outputs": [],
   "source": [
    "X = df.drop(\"color\", axis = 1)"
   ]
  },
  {
   "cell_type": "code",
   "execution_count": null,
   "id": "7e99a34a",
   "metadata": {},
   "outputs": [],
   "source": [
    "sclr = StandardScaler()"
   ]
  },
  {
   "cell_type": "code",
   "execution_count": null,
   "id": "229b6568",
   "metadata": {},
   "outputs": [],
   "source": [
    "sclr.fit(X)"
   ]
  },
  {
   "cell_type": "code",
   "execution_count": null,
   "id": "28eccb1c",
   "metadata": {},
   "outputs": [],
   "source": [
    "X = sclr.transform(X)"
   ]
  },
  {
   "cell_type": "code",
   "execution_count": null,
   "id": "d1ebd1a0",
   "metadata": {},
   "outputs": [],
   "source": [
    "X"
   ]
  },
  {
   "cell_type": "markdown",
   "id": "49c8ac73",
   "metadata": {},
   "source": [
    "## Clustering with the help of KMeans Algorithm"
   ]
  },
  {
   "cell_type": "code",
   "execution_count": null,
   "id": "462d44af",
   "metadata": {},
   "outputs": [],
   "source": [
    "from sklearn.cluster import KMeans"
   ]
  },
  {
   "cell_type": "code",
   "execution_count": null,
   "id": "3f30add6",
   "metadata": {},
   "outputs": [],
   "source": [
    "k = 4 # number of clusters"
   ]
  },
  {
   "cell_type": "code",
   "execution_count": null,
   "id": "582551ea",
   "metadata": {},
   "outputs": [],
   "source": [
    "kmeans = KMeans(n_clusters=k, algorithm=\"full\", max_iter=1000)"
   ]
  },
  {
   "cell_type": "code",
   "execution_count": null,
   "id": "b6e6b9a7",
   "metadata": {},
   "outputs": [],
   "source": []
  },
  {
   "cell_type": "code",
   "execution_count": null,
   "id": "d164e71d",
   "metadata": {},
   "outputs": [],
   "source": [
    "y_pred = kmeans.fit_predict(X)"
   ]
  },
  {
   "cell_type": "code",
   "execution_count": null,
   "id": "32f2edc8",
   "metadata": {},
   "outputs": [],
   "source": [
    "sns.scatterplot(x = X[:, 0], y = X[:, 1], hue = y_pred)"
   ]
  },
  {
   "cell_type": "markdown",
   "id": "ff107cbd",
   "metadata": {},
   "source": [
    "### Above classification by KMeans was not done well so now we use *DBSCAN Algo* which is more density focussed"
   ]
  },
  {
   "cell_type": "code",
   "execution_count": null,
   "id": "19835f7d",
   "metadata": {},
   "outputs": [],
   "source": [
    "from sklearn.cluster import DBSCAN"
   ]
  },
  {
   "cell_type": "code",
   "execution_count": null,
   "id": "1c413678",
   "metadata": {},
   "outputs": [],
   "source": [
    "dbscan = DBSCAN(eps=0.2, min_samples=5)"
   ]
  },
  {
   "cell_type": "code",
   "execution_count": null,
   "id": "a19fc3a4",
   "metadata": {},
   "outputs": [],
   "source": [
    "y_pred = dbscan.fit_predict(X)"
   ]
  },
  {
   "cell_type": "code",
   "execution_count": null,
   "id": "4bb6344e",
   "metadata": {},
   "outputs": [],
   "source": [
    "sns.scatterplot(x = X[:, 0], y = X[:, 1], hue = y_pred)"
   ]
  },
  {
   "cell_type": "markdown",
   "id": "99651dc2",
   "metadata": {},
   "source": [
    "**Clearly there are 4 clusters identified by our Algorithm**"
   ]
  },
  {
   "cell_type": "code",
   "execution_count": null,
   "id": "35603984",
   "metadata": {},
   "outputs": [],
   "source": []
  }
 ],
 "metadata": {
  "kernelspec": {
   "display_name": "Python 3 (ipykernel)",
   "language": "python",
   "name": "python3"
  },
  "language_info": {
   "codemirror_mode": {
    "name": "ipython",
    "version": 3
   },
   "file_extension": ".py",
   "mimetype": "text/x-python",
   "name": "python",
   "nbconvert_exporter": "python",
   "pygments_lexer": "ipython3",
   "version": "3.9.7"
  }
 },
 "nbformat": 4,
 "nbformat_minor": 5
}
